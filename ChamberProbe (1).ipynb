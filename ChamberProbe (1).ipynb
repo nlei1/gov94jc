{
  "nbformat": 4,
  "nbformat_minor": 0,
  "metadata": {
    "colab": {
      "provenance": []
    },
    "kernelspec": {
      "name": "python3",
      "display_name": "Python 3"
    },
    "language_info": {
      "name": "python"
    }
  },
  "cells": [
    {
      "cell_type": "markdown",
      "source": [
        "### Import and Configure API"
      ],
      "metadata": {
        "id": "6A5Vsez5YeCX"
      }
    },
    {
      "cell_type": "code",
      "execution_count": null,
      "metadata": {
        "id": "9CfKZMkucCfx",
        "colab": {
          "base_uri": "https://localhost:8080/"
        },
        "outputId": "548a4c0d-c9a1-45d5-e727-6f5908926aad"
      },
      "outputs": [
        {
          "output_type": "stream",
          "name": "stdout",
          "text": [
            "Collecting praw\n",
            "  Downloading praw-7.7.1-py3-none-any.whl (191 kB)\n",
            "\u001b[?25l     \u001b[90m━━━━━━━━━━━━━━━━━━━━━━━━━━━━━━━━━━━━━━━━\u001b[0m \u001b[32m0.0/191.0 kB\u001b[0m \u001b[31m?\u001b[0m eta \u001b[36m-:--:--\u001b[0m\r\u001b[2K     \u001b[91m━━━━━━━━━━━━━━━━━━━━━━━━━━━━━━━━━━━━━━\u001b[0m\u001b[91m╸\u001b[0m\u001b[90m━\u001b[0m \u001b[32m184.3/191.0 kB\u001b[0m \u001b[31m6.1 MB/s\u001b[0m eta \u001b[36m0:00:01\u001b[0m\r\u001b[2K     \u001b[90m━━━━━━━━━━━━━━━━━━━━━━━━━━━━━━━━━━━━━━━━\u001b[0m \u001b[32m191.0/191.0 kB\u001b[0m \u001b[31m4.3 MB/s\u001b[0m eta \u001b[36m0:00:00\u001b[0m\n",
            "\u001b[?25hCollecting prawcore<3,>=2.1 (from praw)\n",
            "  Downloading prawcore-2.4.0-py3-none-any.whl (17 kB)\n",
            "Collecting update-checker>=0.18 (from praw)\n",
            "  Downloading update_checker-0.18.0-py3-none-any.whl (7.0 kB)\n",
            "Requirement already satisfied: websocket-client>=0.54.0 in /usr/local/lib/python3.10/dist-packages (from praw) (1.8.0)\n",
            "Requirement already satisfied: requests<3.0,>=2.6.0 in /usr/local/lib/python3.10/dist-packages (from prawcore<3,>=2.1->praw) (2.31.0)\n",
            "Requirement already satisfied: charset-normalizer<4,>=2 in /usr/local/lib/python3.10/dist-packages (from requests<3.0,>=2.6.0->prawcore<3,>=2.1->praw) (3.3.2)\n",
            "Requirement already satisfied: idna<4,>=2.5 in /usr/local/lib/python3.10/dist-packages (from requests<3.0,>=2.6.0->prawcore<3,>=2.1->praw) (3.7)\n",
            "Requirement already satisfied: urllib3<3,>=1.21.1 in /usr/local/lib/python3.10/dist-packages (from requests<3.0,>=2.6.0->prawcore<3,>=2.1->praw) (2.0.7)\n",
            "Requirement already satisfied: certifi>=2017.4.17 in /usr/local/lib/python3.10/dist-packages (from requests<3.0,>=2.6.0->prawcore<3,>=2.1->praw) (2024.2.2)\n",
            "Installing collected packages: update-checker, prawcore, praw\n",
            "Successfully installed praw-7.7.1 prawcore-2.4.0 update-checker-0.18.0\n"
          ]
        }
      ],
      "source": [
        "!pip install -U -q google.generativeai # Install the Python SDK\n",
        "!pip install praw\n",
        "import google.generativeai as genai\n",
        "import requests\n",
        "from google.colab import userdata\n",
        "GOOGLE_API_KEY=userdata.get('GOOGLE_API_KEY')\n",
        "genai.configure(api_key=GOOGLE_API_KEY)\n",
        "\n",
        "import praw\n",
        "\n",
        "reddit = praw.Reddit(\n",
        "    client_id='_TkmaQlhemKAQdR1WclVgQ',  # Replace 'YOUR_CLIENT_ID' with your actual client_id\n",
        "    client_secret='jLCabo1llva3OyrmV9eXqrmVBW56gg',  # Replace 'YOUR_CLIENT_SECRET' with your actual client_secret\n",
        "    user_agent='my_reddit_scraper'  # e.g., 'my_reddit_scraper'\n",
        ")\n",
        "\n",
        "model = genai.GenerativeModel('gemini-pro')\n",
        "chat = model.start_chat(history=[])"
      ]
    },
    {
      "cell_type": "markdown",
      "source": [
        "### Functions"
      ],
      "metadata": {
        "id": "DT-xjKj3Ym1C"
      }
    },
    {
      "cell_type": "code",
      "source": [
        "def get_reddit(lst, topic):\n",
        "    # Join the subreddit list into a format suitable for PRAW\n",
        "    subreddits = '+'.join(lst)\n",
        "\n",
        "    # Access the combined subreddit\n",
        "    combined_subreddit = reddit.subreddit(subreddits)\n",
        "\n",
        "    # List to hold the titles\n",
        "    titles = []\n",
        "\n",
        "    # Search for the term in the combined subreddit and collect titles\n",
        "    for submission in combined_subreddit.search(topic, limit=10):\n",
        "        titles.append(submission.title)\n",
        "\n",
        "    return \" \".join(titles)\n",
        "\n",
        "def get_news(lst, topic):\n",
        "  # Join the list into a comma-separated string\n",
        "  sources = ','.join(lst)\n",
        "\n",
        "  url = (f'https://newsapi.org/v2/everything?'\n",
        "        f'q={topic}&'\n",
        "        f'from=2024-05-06&'\n",
        "        f'sortBy=popularity&'\n",
        "        f'sources={sources}&'\n",
        "        f'apiKey=be578ca8b49340fba140d6e73634ca0c')\n",
        "\n",
        "  response = requests.get(url)\n",
        "  data = response.json()\n",
        "\n",
        "  # Initialize an empty string to hold the concatenated text\n",
        "  concatenated_text = \"\"\n",
        "\n",
        "  # Loop through each article in the JSON object\n",
        "  for article in data[\"articles\"]:\n",
        "      # Extract the title, description, and content\n",
        "      title = article.get(\"title\", \"\")\n",
        "      description = article.get(\"description\", \"\")\n",
        "      content = article.get(\"content\", \"\")[:-17]\n",
        "\n",
        "      concatenated_text += f\"{title} {description} \"\n",
        "\n",
        "  # Return the concatenated text\n",
        "  return concatenated_text\n",
        "\n",
        "\n",
        "def get_prompt(n, topic):\n",
        "  prompt = 'Please generate ' + str(n) + ' personas that have the most divergent views about ' + topic + '. For each person, provide demographics, psychographics, background story, a list of possible news consumption, and a list of subreddits they might be on.'\n",
        "  return prompt\n",
        "\n",
        "def probe_with_media(person_id, question, news_headlines, reddit_headlines):\n",
        "  response = chat.send_message(\"How would person \" + str(person_id) + \" respond to the following question: \" + question + \" Here are the headlines person \" + str(person_id) + \" read this week: \" + news_headlines + \". Here are the subreddits person \" + str(person_id) + \" is on: \" + reddit_headlines + \". What news headlines or reddit posts influenced their opinions the most?\")\n",
        "  return response.text\n",
        "\n",
        "def ask_personas(question, media_dict, reddit_dict):\n",
        "    for (media_id, media_sources), (reddit_id, reddit_sources) in zip(media_dict.items(), reddit_dict.items()):\n",
        "        print(media_id)\n",
        "        if media_id == reddit_id:  # Ensuring the keys match, this check can be omitted if keys are guaranteed to match\n",
        "            news_headlines = get_news(media_sources, topic)\n",
        "            reddit_headlines = get_reddit(reddit_sources, topic)\n",
        "            print(probe_with_media(media_id, question, news_headlines, reddit_headlines))\n",
        "\n"
      ],
      "metadata": {
        "id": "Qj4GXAZM6QqL"
      },
      "execution_count": null,
      "outputs": []
    },
    {
      "cell_type": "markdown",
      "source": [
        "### Generate personas given specified topic"
      ],
      "metadata": {
        "id": "iGnYy7OtYpcs"
      }
    },
    {
      "cell_type": "code",
      "source": [
        "topic = 'immigration'"
      ],
      "metadata": {
        "id": "PCF9aBohGeRC"
      },
      "execution_count": null,
      "outputs": []
    },
    {
      "cell_type": "code",
      "source": [
        "prompt = get_prompt(3, topic)\n",
        "response = chat.send_message(prompt)\n",
        "print(response.text)"
      ],
      "metadata": {
        "colab": {
          "base_uri": "https://localhost:8080/",
          "height": 448
        },
        "id": "5PjqLQfqcO7C",
        "outputId": "f66b4b4a-62a6-4d8a-e029-653f5e6f4b47"
      },
      "execution_count": null,
      "outputs": [
        {
          "output_type": "stream",
          "name": "stdout",
          "text": [
            "**Persona 1: The Nationalist**\n",
            "\n",
            "* **Demographics:** White male, 55+, rural or small town, low education level\n",
            "* **Psychographics:** Conservative, patriotic, values tradition, distrustful of outsiders\n",
            "* **Background story:** Grew up in a small town where immigrants were rarely seen. Has seen his community change over time as more immigrants have moved in. Believes that immigrants are taking away jobs and resources from native-born Americans.\n",
            "* **Possible news consumption:** Fox News, Breitbart News, The Blaze\n",
            "* **Subreddits:** r/The_Donald, r/Conservative, r/Immigration\n",
            "\n",
            "**Persona 2: The Humanitarian**\n",
            "\n",
            "* **Demographics:** White female, 25-44, urban or suburban, college educated\n",
            "* **Psychographics:** Liberal, compassionate, values diversity, believes in helping those in need\n",
            "* **Background story:** Grew up in a diverse community and has always been exposed to different cultures. Has volunteered with refugee organizations and believes that immigrants are an asset to the country.\n",
            "* **Possible news consumption:** The New York Times, The Washington Post, The Atlantic\n",
            "* **Subreddits:** r/Progressive, r/SocialJustice101, r/Immigration\n",
            "\n",
            "**Persona 3: The Libertarian**\n",
            "\n",
            "* **Demographics:** White male, 25-44, urban or suburban, college educated\n",
            "* **Psychographics:** Independent, fiscally conservative, socially liberal, believes in individual liberty\n",
            "* **Background story:** Believes that the government should stay out of people's personal lives, including their immigration status. Supports open borders and believes that immigrants should be allowed to come to the country and work without fear of deportation.\n",
            "* **Possible news consumption:** Reason, The Cato Institute, The Mises Institute\n",
            "* **Subreddits:** r/Libertarian, r/Anarcho_Capitalism, r/GoldandBlack\n"
          ]
        }
      ]
    },
    {
      "cell_type": "code",
      "source": [
        "# response = chat.send_message(\"Can you change persona 3 to be a 21 year old who went to bryn mawr\")\n",
        "# print(response.text)"
      ],
      "metadata": {
        "id": "_Ab-BTdQcSBZ"
      },
      "execution_count": null,
      "outputs": []
    },
    {
      "cell_type": "markdown",
      "source": [
        "### Specify Media Consumption"
      ],
      "metadata": {
        "id": "IX0kSmL4YvjG"
      }
    },
    {
      "cell_type": "code",
      "source": [
        "media_dict = {1: ['breitbart-news', 'fox-news'],\n",
        "              2: ['the-washington-post', 'politico'],\n",
        "              3: ['cnn']}\n",
        "\n",
        "reddit_dict = {1: ['whiterights', 'conservative'],\n",
        "               2: ['progressive', 'socialjustice101'],\n",
        "               3: ['libertarian', 'Anarcho_Capitalism']}"
      ],
      "metadata": {
        "id": "WHegltqeE9Tb"
      },
      "execution_count": null,
      "outputs": []
    },
    {
      "cell_type": "markdown",
      "source": [
        "### Probe Personas"
      ],
      "metadata": {
        "id": "RejbbISSYyzx"
      }
    },
    {
      "cell_type": "code",
      "source": [
        "question = 'In your opinion, should immigration policies in your country be more restrictive, more permissive, or remain unchanged?'"
      ],
      "metadata": {
        "id": "9e1j2XYHWhug"
      },
      "execution_count": null,
      "outputs": []
    },
    {
      "cell_type": "code",
      "source": [
        "ask_personas(question, media_dict, reddit_dict)"
      ],
      "metadata": {
        "id": "IxjXyZy9FYDQ",
        "outputId": "dfe298aa-4462-4d56-8a46-4c44e8486b4d",
        "colab": {
          "base_uri": "https://localhost:8080/",
          "height": 1595
        }
      },
      "execution_count": null,
      "outputs": [
        {
          "output_type": "stream",
          "name": "stdout",
          "text": [
            "1\n"
          ]
        },
        {
          "output_type": "stream",
          "name": "stderr",
          "text": [
            "WARNING:praw:It appears that you are using PRAW in an asynchronous environment.\n",
            "It is strongly recommended to use Async PRAW: https://asyncpraw.readthedocs.io.\n",
            "See https://praw.readthedocs.io/en/latest/getting_started/multiple_instances.html#discord-bots-and-asynchronous-environments for more info.\n",
            "\n"
          ]
        },
        {
          "output_type": "stream",
          "name": "stdout",
          "text": [
            "The headlines and Reddit posts that would most influence Person 1's opinion on immigration policies are:\n",
            "\n",
            "* **Headlines:**\n",
            "    * Fed President Kashkari Warns Rates Might Not Be High Enough\n",
            "    * Blue State Outlook: Almost 1-in-10 New Jersey Residents Are Illegal Aliens\n",
            "    * Biden Overwhelms Immigration Courts with Over 3.5 Million Cases Pending\n",
            "    * Bloomberg: Migration Drives Up Housing Costs in 13 Countries\n",
            "    * 'Irish Lives Matter' -- Thousands Protest Against Mass Migration in Dublin\n",
            "    * Joe Biden Calls Illegal Aliens 'Model Citizens' While Promoting Amnesty\n",
            "    * Illegal Alien Accused of Sexually Assaulting 11-Year-Old Girl After Being Freed into U.S. by Biden's DHS\n",
            "    * Federal Reserve Chairman: Migration Boosts Mortgage Rates\n",
            "    * Biden takes role as bystander on border and campus protests, surrenders the bully pulpit\n",
            "    * Illegal migrant accused of snatching young girl had been set loose by Feds\n",
            "    * Biden plan to extend ObamaCare eligibility to illegal immigrants gets pushback in Congress: 'Madness'\n",
            "    * House Dems seeking re-election seemingly reverse course, call on Biden to 'bring order to the southern border'\n",
            "    * GOP committee chair demands answers from DC officials on controversial noncitizen voting law\n",
            "* **Reddit posts:**\n",
            "    * Immigration Without Assimilation Is Just Invasion -- To begin to fix immigration, we must agree the American identity is worth preserving and then work to build an immigration system that nourishes it.\n",
            "    * The recent illegal immigration numbers are unheard of\n",
            "    * Democrats really used to want to stop illegal immigration. Here's Chuck Schumer in 2009 telling us all how \"illegal immigration is wrong.\" What changed?\n",
            "    * Why are illegal immigrants more important than homeless Americans???\n",
            "\n",
            "These headlines and posts reinforce Person 1's belief that immigration is a threat to the country and that it is driving up housing costs, crime, and other social problems. They also play into his fears about the changing demographics of the country and the potential for social unrest.\n",
            "\n",
            "In response to the question of whether immigration policies should be more restrictive, more permissive, or remain unchanged, Person 1 would likely argue that they should be more restrictive. He would point to the headlines and Reddit posts as evidence that immigration is a problem and that the government needs to do more to control it. He would also argue that the government should focus on enforcing the laws against illegal immigration and on reducing the number of legal immigrants coming into the country.\n",
            "\n",
            "Here is a possible response from Person 1:\n",
            "\n",
            "> \"I think immigration policies in this country need to be more restrictive. We're seeing more and more people coming here illegally, and they're taking away jobs and resources from American citizens. The government needs to do more to enforce the laws and to protect our borders. We can't afford to keep letting people in who are just going to take advantage of our system.\"\n",
            "2\n"
          ]
        },
        {
          "output_type": "stream",
          "name": "stderr",
          "text": [
            "WARNING:praw:It appears that you are using PRAW in an asynchronous environment.\n",
            "It is strongly recommended to use Async PRAW: https://asyncpraw.readthedocs.io.\n",
            "See https://praw.readthedocs.io/en/latest/getting_started/multiple_instances.html#discord-bots-and-asynchronous-environments for more info.\n",
            "\n"
          ]
        },
        {
          "output_type": "stream",
          "name": "stdout",
          "text": [
            "The headlines and Reddit posts that would most influence Person 2's opinion on immigration policies are:\n",
            "\n",
            "* **Headlines:**\n",
            "    * Assessing the most important issue to American voters: It’s inflation, not immigration.\n",
            "    * Biden looks to project presidential power as campaign heats up: From immigration to climate, White House seeks to present an active president despite pushback from Congress and courts.\n",
            "* **Reddit posts:**\n",
            "    * Iowa House sends Texas-style immigration enforcement bill to governor\n",
            "    * Federal judge blocks Trump immigration ban nationwide\n",
            "    * How will Florida’s new immigration law impact law enforcement?\n",
            "    * Trump Aide Miller’s Uncle Blasts Him As 'Immigration Hypocrite' In Op-Ed Given That Grandparents Were Immigrants Fleeing Persecution\n",
            "    * Evangelicals love Trump’s immigration policies.\n",
            "    * New immigrant families in Denver must exit shelters as the city scales back aid. Many have nowhere to go\n",
            "    * Michele Bachmann Accidentally Tells the Truth: No Immigration Reform Because Immigrants Aren’t Republicans\n",
            "    * A Nobel prize-winning immigrant's view on American inequality : Planet Money : NPR\n",
            "    * Trump spokesperson's horrific defense of immigration ban: 'So what? They're Muslim'\n",
            "    * The Growing GOP Drumbeat For Indefinite Family Immigration Detention.\n",
            "\n",
            "These headlines and posts reinforce Person 2's belief that immigration is not a threat to the country and that immigrants are actually a benefit to the economy and society. They also play into her compassion for those who are fleeing violence and persecution in their home countries.\n",
            "\n",
            "In response to the question of whether immigration policies should be more restrictive, more permissive, or remain unchanged, Person 2 would likely argue that they should be more permissive. She would point to the headlines and Reddit posts as evidence that immigrants are not a drain on resources and that they are actually a valuable part of the country. She would also argue that the government needs to do more to help immigrants integrate into American society and to protect them from discrimination.\n",
            "\n",
            "Here is a possible response from Person 2:\n",
            "\n",
            "> \"I think immigration policies in this country need to be more permissive. We're seeing more and more people coming here from all over the world, and they're bringing their talents and skills with them. Immigrants are starting businesses, creating jobs, and contributing to our economy. The government needs to do more to welcome immigrants and to help them succeed in this country.\"\n",
            "3\n"
          ]
        },
        {
          "output_type": "stream",
          "name": "stderr",
          "text": [
            "WARNING:praw:It appears that you are using PRAW in an asynchronous environment.\n",
            "It is strongly recommended to use Async PRAW: https://asyncpraw.readthedocs.io.\n",
            "See https://praw.readthedocs.io/en/latest/getting_started/multiple_instances.html#discord-bots-and-asynchronous-environments for more info.\n",
            "\n"
          ]
        },
        {
          "output_type": "stream",
          "name": "stdout",
          "text": [
            "The headlines and Reddit posts that would most influence Person 3's opinion on immigration policies are:\n",
            "\n",
            "* **Headlines:**\n",
            "    * Noelia Voigt resigns as Miss USA, citing her mental health\n",
            "* **Reddit posts:**\n",
            "    * Different end goals on immigration\n",
            "    * If an illegal immigrant...\n",
            "    * Founding Father George Washington on Immigrants from \"Shithole\" Countries\n",
            "    * What is your Stance on Immigration from a Libertarian Perspective?\n",
            "    * In 2024 supporting illegal immigration is supporting the welfare state. I do not support the welfare state.\n",
            "    * All government immigration restrictions are bad. No exceptions.\n",
            "    * Illegal immigration\n",
            "    * We need to end illegal immigration once and for all\n",
            "    * Libertarian Party of Texas on Twitter, \"You can't be pro-free market and anti-immigration.\"\n",
            "    * Conservatives on immigration.\n",
            "\n",
            "These headlines and posts reinforce Person 3's libertarian philosophy of individual liberty and limited government. They also play into his belief that immigration is a personal choice and that the government should not interfere in the free movement of people.\n",
            "\n",
            "In response to the question of whether immigration policies should be more restrictive, more permissive, or remain unchanged, Person 3 would likely argue that they should remain unchanged or become more permissive. He would argue that the government should not restrict people's ability to immigrate and that individuals should be free to move to and from different countries as they please. He would also argue that the government should focus on protecting the rights of immigrants and on ensuring that they are treated fairly.\n",
            "\n",
            "Here is a possible response from Person 3:\n",
            "\n",
            "> \"I think immigration policies in this country should remain unchanged or become more permissive. I believe that people should be free to move to and from different countries as they please. The government should not restrict people's ability to immigrate and should focus on protecting the rights of immigrants and ensuring that they are treated fairly.\"\n"
          ]
        }
      ]
    },
    {
      "cell_type": "markdown",
      "source": [
        "### Appendix"
      ],
      "metadata": {
        "id": "aDEQc50rsVJ4"
      }
    },
    {
      "cell_type": "code",
      "source": [
        "available_news_sources = ['abc-news',\n",
        " 'al-jazeera-english',\n",
        " 'axios',\n",
        " 'bbc-news',\n",
        " 'bloomberg',\n",
        " 'breitbart-news',\n",
        " 'business-insider',\n",
        " 'business-insider-uk',\n",
        " 'buzzfeed',\n",
        " 'cbc-news',\n",
        " 'cbs-news',\n",
        " 'cnn',\n",
        " 'der-tagesspiegel',\n",
        " 'entertainment-weekly',\n",
        " 'financial-post',\n",
        " 'fortune',\n",
        " 'fox-news',\n",
        " 'independent',\n",
        " 'national-review',\n",
        " 'nbc-news',\n",
        " 'news24',\n",
        " 'newsweek',\n",
        " 'new-york-magazine',\n",
        " 'politico',\n",
        " 'reuters',\n",
        " 'spiegel-online',\n",
        " 'the-american-conservative',\n",
        " 'the-globe-and-mail',\n",
        " 'the-hill',\n",
        " 'the-huffington-post',\n",
        " 'the-jerusalem-post',\n",
        " 'the-verge',\n",
        " 'the-wall-street-journal',\n",
        " 'the-washington-post',\n",
        " 'the-washington-times',\n",
        " 'time',\n",
        " 'usa-today',\n",
        " 'vice-news']\n",
        "\n"
      ],
      "metadata": {
        "id": "h8tQO1DosXGu"
      },
      "execution_count": null,
      "outputs": []
    }
  ]
}